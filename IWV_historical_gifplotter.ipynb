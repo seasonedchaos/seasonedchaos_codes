{
 "cells": [
  {
   "cell_type": "markdown",
   "id": "f1784da4-fbc3-4c87-9b43-6007b30dbc09",
   "metadata": {},
   "source": [
    "<a name=\"top\"></a>\n",
    "<div style=\"width:1000 px\">\n",
    "\n",
    "<div style=\"float:right; width:98 px; height:98px;\">\n",
    "<img src=\"https://cdn.miami.edu/_assets-common/images/system/um-logo-gray-bg.png\" alt=\"Miami Logo\" style=\"height: 98px;\">\n",
    "</div>\n",
    "    \n",
    "<div style=\"float:left; width:120 px; height:120px;\">\n",
    "<img src=\"http://seasonedchaos.github.io/assets/img/SC_logo.jpg\" alt=\"Seasoned Chaos logo\" style=\"height: 120px;\">\n",
    "</div>\n",
    "\n",
    "<div style=\"clear:both\"></div>\n",
    "</div>\n",
    "    \n",
    "<h1>Satellite Pull and Plot: Integrated Water Vapor</h1><h3><i>Python code by: Kayla Besong, Seasoned Chaos team</i></h3>\n",
    "<br>\n",
    "<h3>Objective: To select historical range of integrated water vapor satellite images from Space Science and Engineering Center\n",
    "University of Wisconsin - Madison and output a gif. The date range as of 2022/02 is currently from 2016/11-2021/12. This is expected to change as time progresses and it is encouraged you visit <a href= http://tropic.ssec.wisc.edu/real-time/mtpw2/> their website</a> to obtain the most up-to-date information.</h3> \n",
    "<br>\n",
    "<br>\n",
    "<i>last major edit: 01/30/2022\n",
    "\n",
    "\n",
    "<hr style=\"height:2px;\">"
   ]
  },
  {
   "cell_type": "code",
   "execution_count": null,
   "id": "eca4c7ae-4327-44cd-8851-9b20613bc2a7",
   "metadata": {},
   "outputs": [],
   "source": [
    "### required packages ###\n",
    "\n",
    "import ftplib\n",
    "import pandas as pd\n",
    "from io import BytesIO\n",
    "from PIL import Image, ImageDraw"
   ]
  },
  {
   "cell_type": "code",
   "execution_count": null,
   "id": "8ffe1d25-44af-493b-8b29-3ce1b33e2d44",
   "metadata": {},
   "outputs": [],
   "source": [
    "def pull_plot(region, start_date, end_date):\n",
    "    \n",
    "    \n",
    "    \"\"\" This function takes the input region, start date, and end date, obtains the satellite \n",
    "        data from the ssec.wisc.edu ftp server and generates an output .gif saved to the local \n",
    "        machine. It does not store files temporarily on local machine. \n",
    "    \n",
    "        region: string, input region from bulleted list below\n",
    "        start_date: string of date to start loop featuring day, month, and year in any order using either / or - \n",
    "        end_date: string of date to start loop featuring day, month, and year in any order using either / or -     \n",
    "    \n",
    "    \"\"\"\n",
    "    \n",
    "    \n",
    "    \n",
    "    date_range = pd.date_range(start = start_date, end = end_date, freq = 'H')                 ## establish date range given inputs \n",
    "    months = pd.unique([i.strftime('%Y%m') for i in date_range])                               ## create unique Year/Month array to loop through ftp directory based on years and months\n",
    "                                                                                               ## this is somewhat of a saftey net if event desires straddles months or years\n",
    "    \n",
    "    ftp = ftplib.FTP('ftp.ssec.wisc.edu', 'anonymous')                                         ## log into the FTP server\n",
    "\n",
    "    images = []                                                                                ## create empty array to store files obtained from looping through ftp directories\n",
    "\n",
    "    for yearmon in months:                                                                     ## loop through unique years/months desired\n",
    "            \n",
    "        try:\n",
    "       \n",
    "            ftp.cwd(f\"/pub/mtpw2/images/tpw_nrl_colors/{region}/{yearmon}\")                    ## cd into correct directory based on region and year/month desired\n",
    "        \n",
    "            for pic in sorted(ftp.nlst()):                                                     ## ftp.nlst lists all the files in our ftp directory accessed above, we are looping over each image in this list\n",
    "\n",
    "                r = BytesIO()                                                                  ## establish an in-memory bytes buffer for us to temporarily store the ftp image in\n",
    "\n",
    "                sub = pd.to_datetime(str(pic)[4:15], format = '%Y%m%d.%H')                     ## ensure the image selected is within date range\n",
    "\n",
    "                if sub >= date_range[0] and sub <= date_range[-1]:\n",
    "\n",
    "                    print(f'{sub} is downloading')\n",
    "\n",
    "                    ftp.retrbinary(f'RETR {pic}', r.write)                                     ## retrive the image from the list and store it in our established byte buffer\n",
    "\n",
    "                    images.append(r)                                                           ## append the byte buffer for later plotting\n",
    "        \n",
    "        except:\n",
    "\n",
    "            print('Invalid region or date range inputted')\n",
    "            \n",
    "        \n",
    "    img, *imgs = [Image.open(f) for f in images]                                               ## formally open each temporarily stored byte buffer in images list\n",
    "    \n",
    "    img.save(f'IWV_{region}_{str(date_range[0])[0:10]}_{str(date_range[-1])[0:10]}.gif',       ## utilize image gif plotter that accepts output name (first row here is the saved output name based on region and dates)\n",
    "             format='GIF', append_images=imgs, save_all=True, duration=200, loop=3)            ## and append_images = our list of opened images that are in byte form\n",
    "                                                                                               ## gif features can be altered here such as # of loops and speed     \n",
    "\n",
    "    ftp.quit()                                                                                 ## make sure to close our connection!! \n",
    "\n"
   ]
  },
  {
   "cell_type": "markdown",
   "id": "172e5127-3eb0-41b5-b64b-33924f38d813",
   "metadata": {
    "tags": []
   },
   "source": [
    "## A current list of regions availble:\n",
    "\n",
    "- alaska     \n",
    "- ausf     \n",
    "- conus\n",
    "- epac\n",
    "- europe\n",
    "- global    (Atlantic centric)\n",
    "- global2   (Pacific centric)\n",
    "- indo\n",
    "- namer     (North America) \n",
    "- natl      (Atlantic ocean only)\n",
    "- samer1    (Northern half of South America)\n",
    "- samer2    (Southern half of South America)\n",
    "- spac      (Southern Pacific 110E-110W) -- only available 2021/08 onwards\n",
    "- wpac\n",
    "\n",
    "NOTE: It is *VERY* important to input the region directly as is above. Using 'alaska' works, however 'Alaska' does not."
   ]
  },
  {
   "cell_type": "markdown",
   "id": "abc06e27-e542-46a3-8ffc-56abf640822d",
   "metadata": {
    "tags": []
   },
   "source": [
    "## Based on Start Date and End Date\n",
    "\n",
    "Each date requires a day, month, and year. The format and order is not highly sensitive but does require a - or / to divide the times. Pandas date_range is used here, so whatever is accepted by pandas is accepted here."
   ]
  },
  {
   "cell_type": "code",
   "execution_count": null,
   "id": "f392cff9-ca1f-4ea7-985d-9fe601836308",
   "metadata": {
    "tags": []
   },
   "outputs": [],
   "source": [
    "## example of inputs for pull_plot function\n",
    "## note how start and end date \n",
    "\n",
    "region = 'alaska'\n",
    "start_date = '2018-12-31'\n",
    "end_date = '2019-01-01'"
   ]
  },
  {
   "cell_type": "code",
   "execution_count": null,
   "id": "79608d5f-9954-45e8-9e53-e8f7d2c7dece",
   "metadata": {},
   "outputs": [],
   "source": [
    "%%time\n",
    "\n",
    "pull_plot(region, start_date, end_date)"
   ]
  }
 ],
 "metadata": {
  "kernelspec": {
   "display_name": "Python 3 (ipykernel)",
   "language": "python",
   "name": "python3"
  },
  "language_info": {
   "codemirror_mode": {
    "name": "ipython",
    "version": 3
   },
   "file_extension": ".py",
   "mimetype": "text/x-python",
   "name": "python",
   "nbconvert_exporter": "python",
   "pygments_lexer": "ipython3",
   "version": "3.10.1"
  }
 },
 "nbformat": 4,
 "nbformat_minor": 5
}
