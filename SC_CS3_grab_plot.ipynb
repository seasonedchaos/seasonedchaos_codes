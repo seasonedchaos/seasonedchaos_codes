{
 "cells": [
  {
   "cell_type": "markdown",
   "id": "43a7a329-79f2-401b-b549-06dfac0d8834",
   "metadata": {},
   "source": [
    "<a name=\"top\"></a>\n",
    "<div style=\"width:1000 px\">\n",
    " \n",
    "<div style=\"float:right; width:98 px; height:98px;\">\n",
    "<img src=\"https://cdn.miami.edu/_assets-common/images/system/um-logo-gray-bg.png\" alt=\"Miami Logo\" style=\"height: 98px;\">\n",
    "</div>\n",
    "<div style=\"float:left; width:98 px; height:100px;\">\n",
    "<img src=\"http://seasonedchaos.github.io/assets/img/SC_logo.jpg\" alt=\"Seasoned Chaos logo\" style=\"height: 98px;\">\n",
    "</div>\n",
    "  \n",
    "<h1 style=\"margin-left: 120px;\"> Download and Plot a Seasonal Forecast from Copernicus Climate Data Store </h1>\n",
    " \n",
    "<p style=\"margin-left: 120px;\">   By: Kayla Besong, Seasoned Chaos team </p>\n",
    "<p style=\"margin-left: 120px;\">   This code leverages the CDS to grab and plot seasonal forecast anomalies on pressure levels. The CDS API client is provided as a function where the inputs are the selections made on the CDS webpage and files are stored locally after requested. It is important that the inputs match exactly what the client is looking for or it will fail. You will also have to sign in to the CDS immediately after requesting for the first time. For more information please go <a href= https://cds.climate.copernicus.eu/cdsapp#!/dataset/seasonal-postprocessed-pressure-levels?tab=form> here </a> . Multple models are selected at once with the DJF 500mb geopotential height and 850mb temperature anomaliey ultimately plotted for 6 models. The plotting code is adaptive and will adjust panels according to the number of models selected. </p>\n",
    " \n",
    "<div style=\"clear:both\"></div>\n",
    "</div>\n",
    " \n",
    "<hr style=\"height:2px;\">"
   ]
  },
  {
   "cell_type": "markdown",
   "id": "148b19c7-ba9e-44b8-8e85-63f243b37e40",
   "metadata": {},
   "source": [
    "## NOTE:\n",
    "\n",
    "This is not a code for beginners and may require some debugging with package dependencies and complications with the CDS API. \n",
    "\n",
    "The package dependencies for this program are a bit tricky and we are still working on making a more user friendly version. In the meantime, we have provided a .txt file with all the packages found in the python environment this script was developed in. Downland the requirements.txt file in the repo, create a new python env and then run pip install -r requirements.txt.\n",
    "\n",
    "Further, this may not work on MacOS due to multiprocess. You can still download data from CDS though, just remove the multiprocessing component. \n",
    "\n",
    "Nonetheless there are many epic code tidbits in here for you to steal and do with as you wish. Python is open source afterall....."
   ]
  },
  {
   "cell_type": "code",
   "execution_count": 6,
   "id": "3a2f3c19-4d97-47ea-a6b5-292a2a687874",
   "metadata": {},
   "outputs": [],
   "source": [
    "\n",
    "import xarray as xr \n",
    "import numpy as np\n",
    "import matplotlib.pyplot as plt\n",
    "import cdsapi\n",
    "from contextlib import closing\n",
    "import multiprocess as mp\n",
    "\n",
    "\n",
    "import cartopy.crs as ccrs\n",
    "from cartopy.mpl.gridliner import LONGITUDE_FORMATTER, LATITUDE_FORMATTER\n",
    "from mpl_toolkits.axes_grid1 import AxesGrid\n",
    "from cartopy.mpl.geoaxes import GeoAxes\n",
    "import matplotlib.ticker as mticker\n",
    "from cartopy.util import add_cyclic_point\n",
    "import cartopy.feature as cf\n",
    "import calendar\n"
   ]
  },
  {
   "cell_type": "code",
   "execution_count": 5,
   "id": "b0245ca7-34cc-4b29-b230-bb4758306efb",
   "metadata": {},
   "outputs": [],
   "source": [
    "def cs3_grabber(originating_centre, system, variable, pressure_level, product_type, init_year, init_mon, leadtime_month_list):\n",
    "    \n",
    "    \n",
    "    ''' This function is an adapted version of the Copernicus Climate Data Store (CDS) API client to download seasonal forecasts on pressure levels. After making all of your selections on their site,\n",
    "        they give you a code to copy, paste, and run to download data. This is that, but with all the variables and information here. To most accurately feed this function it is encouraged you visit \n",
    "        https://cds.climate.copernicus.eu/cdsapp#!/dataset/seasonal-postprocessed-pressure-levels?tab=form and select the model, pressure levels, and variable combinations actually available. \n",
    "        This function saves the file locally to your working directory. \n",
    "    \n",
    "    \n",
    "    Input Variables:\n",
    "\n",
    "        originating_centre: (string) The available modeling centers providing forecasts: 'ncep', 'ecmwf', 'ukmo', 'cmcc', 'meteo_france', 'jma', 'dwd', 'eccc' \n",
    "\n",
    "        system: (string) The corresponding, specific 'version' of the model from provider selected above in consecutive order (as of Dec 2022): '2', '5', '600', '35', '8', '2', '21', '2' or '3'}\n",
    "\n",
    "        variable: (string or list of strings) Variables available: 'geopotential_anomaly', 'specific_humidity_anomaly', 'temperature_anomaly', 'u_component_of_wind_anomaly', 'v_component_of_wind_anomaly'        \n",
    "\n",
    "        pressure_level: (string or list of strings) Note that not all pressure levels are available for all variable/model combinations (mostly at lower levels) and incorrect selection can lead to error.\n",
    "                                                    ['10', '30', '50','100', '200', '300', '400', '500', '700', '850', '925', '1000'] \n",
    "        \n",
    "        product_type: (string or list of strings) The 'ensemble_mean' or 'monthly_mean'.\n",
    "        \n",
    "        init_year: (string or list of strings) The numerical year value for initialization. Caution for splitting the end and beginning of the year! \n",
    "        \n",
    "        init_mon: (string or list of strings)  The numerical month value for initialization. Selecting '12', for example, means the forecast begins December 1st. \n",
    "        \n",
    "        leadtime_month_list: (string or list of strings) The numerical month value such as ['1', '2', '3'] from the initalization month. So if you select init_mon as '1' and do a lead month of '2' your output would be for February\n",
    "    \n",
    "    Output:\n",
    "        \n",
    "        A netcdf file saved to working directory, no stored variable. \n",
    "    \n",
    "    '''\n",
    "    \n",
    "        \n",
    "    c = cdsapi.Client()\n",
    "\n",
    "    c.retrieve(\n",
    "        'seasonal-postprocessed-pressure-levels',\n",
    "        {\n",
    "            'format': 'netcdf',\n",
    "            'originating_centre': originating_centre,\n",
    "            'system': system,\n",
    "            'variable': variable,\n",
    "            'pressure_level': pressure_level,\n",
    "            'product_type': product_type,\n",
    "            'year': init_year,\n",
    "            'month': init_mon,\n",
    "            'leadtime_month': leadtime_month_list,\n",
    "        },\n",
    "        f'CS3_{originating_centre}_{init_year}_{init_mon}.nc')\n",
    "    \n",
    "    print(originating_centre, 'has finished') "
   ]
  },
  {
   "cell_type": "markdown",
   "id": "c235510d-9e21-401a-8546-f79c6324b498",
   "metadata": {},
   "source": [
    "# Tuning inputs"
   ]
  },
  {
   "cell_type": "markdown",
   "id": "d4252caa-e4cb-4221-a7d2-381aefbecc1c",
   "metadata": {},
   "source": [
    "See https://cds.climate.copernicus.eu/cdsapp#!/dataset/seasonal-postprocessed-pressure-levels?tab=form for more on how to correctly input all of the parameters.\n",
    "Incorrect input will immediately lead to error.\n",
    "Another immediate error related to 'signing in' to the Copernicus CDS may pop up. If you click the link and sign in, then it should be fine.  "
   ]
  },
  {
   "cell_type": "markdown",
   "id": "0816841f-fb8d-4213-a055-e473910613e0",
   "metadata": {},
   "source": [
    "### Model Selection"
   ]
  },
  {
   "cell_type": "code",
   "execution_count": 8,
   "id": "7191a05b-a18e-4b17-b3d9-bfe914bfb3c4",
   "metadata": {},
   "outputs": [],
   "source": [
    "# creating a dictionary of the interested models and their corresponding current 'versions' or systems\n",
    "# note the keys of this dictionary are used multiple times throughout the rest of the code\n",
    "\n",
    "model_dict = {'ncep': '2', 'ecmwf': '51', 'ukmo': '601' }#, 'cmcc': '35', 'meteo_france': '8', 'jma': '2'}"
   ]
  },
  {
   "cell_type": "markdown",
   "id": "9c90a003-8379-47f2-a936-a239993f9ee5",
   "metadata": {},
   "source": [
    "### Variable Selection and Inititalization "
   ]
  },
  {
   "cell_type": "code",
   "execution_count": 9,
   "id": "1773954b-66fc-4f74-bec5-94983e8137da",
   "metadata": {},
   "outputs": [],
   "source": [
    "variable_list = ['geopotential_anomaly', 'temperature_anomaly']\n",
    "pressure_level = ['500', '850']\n",
    "product_type = 'ensemble_mean'\n",
    "init_year = '2022'\n",
    "init_mon = '12'\n",
    "lead_time_mons = ['1', '2', '3']"
   ]
  },
  {
   "cell_type": "markdown",
   "id": "9385cc8c-f874-4fbc-997d-b0556dab5b68",
   "metadata": {
    "tags": []
   },
   "source": [
    "# Multiprocessing the Request"
   ]
  },
  {
   "cell_type": "markdown",
   "id": "357cf21b-d79f-46d1-b709-e2f255a8606c",
   "metadata": {},
   "source": [
    "## Make sure you have the CDS API installed first\n",
    "\n",
    "You can follow the directions here: https://cds.climate.copernicus.eu/api-how-to\n",
    "\n",
    "You will have to ensure you have an account with them and that your API key + user ID is filled in your cdsapirc file."
   ]
  },
  {
   "cell_type": "markdown",
   "id": "61a7fe18-f605-487f-936b-12c0b588ab3f",
   "metadata": {},
   "source": [
    "## This may take a moment\n",
    "\n",
    "This uses mulitprocessing Pool to send out a request for each model at the same time, rather than waiting one after another. This may still take a moment as the requests are external and thus you are waiting for CDS to serve your request. Don't give up on it, but maybe run it while you're doing something else. This can be on the order of minutes or hours depending on Copernicus! \n",
    "\n",
    "Note: while waiting you should see INFO Welcome to the CDS, if that is the case you just have to wait for their response. If not and you're getting errors or it just kind of stops, there is either an error in your input causing the request to be incorrect or package dependency issues."
   ]
  },
  {
   "cell_type": "markdown",
   "id": "1d4d0b53-5129-4edc-a12b-c90a1065d6fb",
   "metadata": {},
   "source": [
    "## This may also not work on MacOS\n",
    "\n",
    "Multiprocess and MacOS (at least on my device) are not agreeing. If you have a work around, let us know, but we are still debugging this! This code was run successfully on a remote research server. "
   ]
  },
  {
   "cell_type": "code",
   "execution_count": 10,
   "id": "519129bb-d2fb-44d1-adce-ca3285f67b19",
   "metadata": {},
   "outputs": [
    {
     "name": "stderr",
     "output_type": "stream",
     "text": [
      "2022-12-22 20:43:33,715 INFO Welcome to the CDS\n",
      "2022-12-22 20:43:33,720 INFO Sending request to https://cds.climate.copernicus.eu/api/v2/resources/seasonal-postprocessed-pressure-levels\n",
      "2022-12-22 20:43:33,725 INFO Welcome to the CDS\n",
      "2022-12-22 20:43:33,725 INFO Welcome to the CDS\n",
      "2022-12-22 20:43:33,729 INFO Sending request to https://cds.climate.copernicus.eu/api/v2/resources/seasonal-postprocessed-pressure-levels\n",
      "2022-12-22 20:43:33,729 INFO Sending request to https://cds.climate.copernicus.eu/api/v2/resources/seasonal-postprocessed-pressure-levels\n",
      "2022-12-22 20:43:33,873 INFO Request is queued\n",
      "2022-12-22 20:43:33,884 INFO Request is queued\n",
      "2022-12-22 20:43:33,930 INFO Request is completed\n",
      "2022-12-22 20:43:33,932 INFO Downloading https://download-0017.copernicus-climate.eu/cache-compute-0017/cache/data4/adaptor.mars.external-1671756321.5956287-10010-15-ac1de837-0e49-48f6-9b33-8941d1248309.nc to CS3_ncep_2022_12.nc (1.5M)\n",
      "2022-12-22 20:43:35,652 INFO Download rate 885.8K/s                                                         \n"
     ]
    },
    {
     "name": "stdout",
     "output_type": "stream",
     "text": [
      "ncep has finished\n"
     ]
    },
    {
     "name": "stderr",
     "output_type": "stream",
     "text": [
      "2022-12-22 20:57:56,862 INFO Request is completed\n",
      "2022-12-22 20:57:56,864 INFO Downloading https://download-0021.copernicus-climate.eu/cache-compute-0021/cache/data9/adaptor.mars.external-1671760559.8037093-11380-2-00b2d7aa-a34f-4286-8853-ef3e1423f8b1.nc to CS3_ecmwf_2022_12.nc (1.5M)\n",
      "2022-12-22 20:57:56,888 INFO Request is completed\n",
      "2022-12-22 20:57:56,889 INFO Downloading https://download-0007-clone.copernicus-climate.eu/cache-compute-0007/cache/data0/adaptor.mars.external-1671760558.6210165-28199-18-d1dd1440-bdaf-4a01-9073-0abd6a0f0fea.nc to CS3_ukmo_2022_12.nc (1.5M)\n",
      "2022-12-22 20:57:58,357 INFO Download rate 1020.6K/s                                                        \n",
      "2022-12-22 20:57:58,479 INFO Download rate 958.4K/s                                                         \n"
     ]
    },
    {
     "name": "stdout",
     "output_type": "stream",
     "text": [
      "ecmwf has finished\n",
      "ukmo has finished\n"
     ]
    }
   ],
   "source": [
    "# starmap function accepts a function and list of that function's arguments , map takes 1. \n",
    "# Here we loop through the keys of our dictionary to generate requests = to the number of models. There are only 8 max model choices. \n",
    "# If you end up recycling this code, such as using it for years or pressure levels, it is advised not to go beyond 8? Don't send 100. \n",
    "\n",
    "with closing(mp.Pool(len(model_dict))) as p:\n",
    "    p.starmap(cs3_grabber, [(mod, model_dict[mod], variable_list, pressure_level, product_type, init_year, init_mon, lead_time_mons) for mod in model_dict.keys()])\n",
    "    p.terminate()"
   ]
  },
  {
   "cell_type": "markdown",
   "id": "1db5448f-c6ce-4fce-93e8-0c4cc77656ec",
   "metadata": {
    "tags": []
   },
   "source": [
    "# Read and Plot! "
   ]
  },
  {
   "cell_type": "markdown",
   "id": "bb1c39d7-ec6e-47a9-b376-a660b3e0ad04",
   "metadata": {},
   "source": [
    "## The rest of this code is designed for pressure and temperature anomalies. \n",
    "\n",
    "For temperature, the 850mb level was selected as not all models selected above have temperature anomaly below that level.\n"
   ]
  },
  {
   "cell_type": "code",
   "execution_count": 7,
   "id": "f436a12c-c990-4322-926a-288981b81edd",
   "metadata": {},
   "outputs": [
    {
     "name": "stdout",
     "output_type": "stream",
     "text": [
      "ERROR! Session/line number was not unique in database. History logging moved to new session 5267\n"
     ]
    },
    {
     "ename": "FileNotFoundError",
     "evalue": "[Errno 2] No such file or directory: b'/raid60B/kbesong/CS3_ecmwf_2022_12.nc'",
     "output_type": "error",
     "traceback": [
      "\u001b[0;31m---------------------------------------------------------------------------\u001b[0m",
      "\u001b[0;31mKeyError\u001b[0m                                  Traceback (most recent call last)",
      "File \u001b[0;32m~/local/bin/miniconda3/envs/geocat/lib/python3.9/site-packages/xarray/backends/file_manager.py:199\u001b[0m, in \u001b[0;36mCachingFileManager._acquire_with_cache_info\u001b[0;34m(self, needs_lock)\u001b[0m\n\u001b[1;32m    198\u001b[0m \u001b[38;5;28;01mtry\u001b[39;00m:\n\u001b[0;32m--> 199\u001b[0m     file \u001b[38;5;241m=\u001b[39m \u001b[38;5;28;43mself\u001b[39;49m\u001b[38;5;241;43m.\u001b[39;49m\u001b[43m_cache\u001b[49m\u001b[43m[\u001b[49m\u001b[38;5;28;43mself\u001b[39;49m\u001b[38;5;241;43m.\u001b[39;49m\u001b[43m_key\u001b[49m\u001b[43m]\u001b[49m\n\u001b[1;32m    200\u001b[0m \u001b[38;5;28;01mexcept\u001b[39;00m \u001b[38;5;167;01mKeyError\u001b[39;00m:\n",
      "File \u001b[0;32m~/local/bin/miniconda3/envs/geocat/lib/python3.9/site-packages/xarray/backends/lru_cache.py:53\u001b[0m, in \u001b[0;36mLRUCache.__getitem__\u001b[0;34m(self, key)\u001b[0m\n\u001b[1;32m     52\u001b[0m \u001b[38;5;28;01mwith\u001b[39;00m \u001b[38;5;28mself\u001b[39m\u001b[38;5;241m.\u001b[39m_lock:\n\u001b[0;32m---> 53\u001b[0m     value \u001b[38;5;241m=\u001b[39m \u001b[38;5;28;43mself\u001b[39;49m\u001b[38;5;241;43m.\u001b[39;49m\u001b[43m_cache\u001b[49m\u001b[43m[\u001b[49m\u001b[43mkey\u001b[49m\u001b[43m]\u001b[49m\n\u001b[1;32m     54\u001b[0m     \u001b[38;5;28mself\u001b[39m\u001b[38;5;241m.\u001b[39m_cache\u001b[38;5;241m.\u001b[39mmove_to_end(key)\n",
      "\u001b[0;31mKeyError\u001b[0m: [<class 'netCDF4._netCDF4.Dataset'>, ('/raid60B/kbesong/CS3_ecmwf_2022_12.nc',), 'r', (('clobber', True), ('diskless', False), ('format', 'NETCDF4'), ('persist', False))]",
      "\nDuring handling of the above exception, another exception occurred:\n",
      "\u001b[0;31mFileNotFoundError\u001b[0m                         Traceback (most recent call last)",
      "Input \u001b[0;32mIn [7]\u001b[0m, in \u001b[0;36m<cell line: 4>\u001b[0;34m()\u001b[0m\n\u001b[1;32m      2\u001b[0m z500 \u001b[38;5;241m=\u001b[39m []\n\u001b[1;32m      4\u001b[0m \u001b[38;5;28;01mfor\u001b[39;00m mod \u001b[38;5;129;01min\u001b[39;00m model_dict\u001b[38;5;241m.\u001b[39mkeys():\n\u001b[0;32m----> 6\u001b[0m     file \u001b[38;5;241m=\u001b[39m \u001b[43mxr\u001b[49m\u001b[38;5;241;43m.\u001b[39;49m\u001b[43mopen_dataset\u001b[49m\u001b[43m(\u001b[49m\u001b[38;5;124;43mf\u001b[39;49m\u001b[38;5;124;43m'\u001b[39;49m\u001b[38;5;124;43mCS3_\u001b[39;49m\u001b[38;5;132;43;01m{\u001b[39;49;00m\u001b[43mmod\u001b[49m\u001b[38;5;132;43;01m}\u001b[39;49;00m\u001b[38;5;124;43m_\u001b[39;49m\u001b[38;5;132;43;01m{\u001b[39;49;00m\u001b[43minit_year\u001b[49m\u001b[38;5;132;43;01m}\u001b[39;49;00m\u001b[38;5;124;43m_\u001b[39;49m\u001b[38;5;132;43;01m{\u001b[39;49;00m\u001b[43minit_mon\u001b[49m\u001b[38;5;132;43;01m}\u001b[39;49;00m\u001b[38;5;124;43m.nc\u001b[39;49m\u001b[38;5;124;43m'\u001b[39;49m\u001b[43m)\u001b[49m\n\u001b[1;32m      8\u001b[0m     temp\u001b[38;5;241m.\u001b[39mappend(file\u001b[38;5;241m.\u001b[39mta\u001b[38;5;241m.\u001b[39msel(level \u001b[38;5;241m=\u001b[39m \u001b[38;5;241m850\u001b[39m)\u001b[38;5;241m.\u001b[39mmean(\u001b[38;5;124m'\u001b[39m\u001b[38;5;124mtime\u001b[39m\u001b[38;5;124m'\u001b[39m))\n\u001b[1;32m      9\u001b[0m     z500\u001b[38;5;241m.\u001b[39mappend(file\u001b[38;5;241m.\u001b[39mza\u001b[38;5;241m.\u001b[39msel(level \u001b[38;5;241m=\u001b[39m \u001b[38;5;241m500\u001b[39m)\u001b[38;5;241m.\u001b[39mmean(\u001b[38;5;124m'\u001b[39m\u001b[38;5;124mtime\u001b[39m\u001b[38;5;124m'\u001b[39m)\u001b[38;5;241m/\u001b[39m\u001b[38;5;241m9.81\u001b[39m)\n",
      "File \u001b[0;32m~/local/bin/miniconda3/envs/geocat/lib/python3.9/site-packages/xarray/backends/api.py:495\u001b[0m, in \u001b[0;36mopen_dataset\u001b[0;34m(filename_or_obj, engine, chunks, cache, decode_cf, mask_and_scale, decode_times, decode_timedelta, use_cftime, concat_characters, decode_coords, drop_variables, backend_kwargs, *args, **kwargs)\u001b[0m\n\u001b[1;32m    483\u001b[0m decoders \u001b[38;5;241m=\u001b[39m _resolve_decoders_kwargs(\n\u001b[1;32m    484\u001b[0m     decode_cf,\n\u001b[1;32m    485\u001b[0m     open_backend_dataset_parameters\u001b[38;5;241m=\u001b[39mbackend\u001b[38;5;241m.\u001b[39mopen_dataset_parameters,\n\u001b[0;32m   (...)\u001b[0m\n\u001b[1;32m    491\u001b[0m     decode_coords\u001b[38;5;241m=\u001b[39mdecode_coords,\n\u001b[1;32m    492\u001b[0m )\n\u001b[1;32m    494\u001b[0m overwrite_encoded_chunks \u001b[38;5;241m=\u001b[39m kwargs\u001b[38;5;241m.\u001b[39mpop(\u001b[38;5;124m\"\u001b[39m\u001b[38;5;124moverwrite_encoded_chunks\u001b[39m\u001b[38;5;124m\"\u001b[39m, \u001b[38;5;28;01mNone\u001b[39;00m)\n\u001b[0;32m--> 495\u001b[0m backend_ds \u001b[38;5;241m=\u001b[39m \u001b[43mbackend\u001b[49m\u001b[38;5;241;43m.\u001b[39;49m\u001b[43mopen_dataset\u001b[49m\u001b[43m(\u001b[49m\n\u001b[1;32m    496\u001b[0m \u001b[43m    \u001b[49m\u001b[43mfilename_or_obj\u001b[49m\u001b[43m,\u001b[49m\n\u001b[1;32m    497\u001b[0m \u001b[43m    \u001b[49m\u001b[43mdrop_variables\u001b[49m\u001b[38;5;241;43m=\u001b[39;49m\u001b[43mdrop_variables\u001b[49m\u001b[43m,\u001b[49m\n\u001b[1;32m    498\u001b[0m \u001b[43m    \u001b[49m\u001b[38;5;241;43m*\u001b[39;49m\u001b[38;5;241;43m*\u001b[39;49m\u001b[43mdecoders\u001b[49m\u001b[43m,\u001b[49m\n\u001b[1;32m    499\u001b[0m \u001b[43m    \u001b[49m\u001b[38;5;241;43m*\u001b[39;49m\u001b[38;5;241;43m*\u001b[39;49m\u001b[43mkwargs\u001b[49m\u001b[43m,\u001b[49m\n\u001b[1;32m    500\u001b[0m \u001b[43m\u001b[49m\u001b[43m)\u001b[49m\n\u001b[1;32m    501\u001b[0m ds \u001b[38;5;241m=\u001b[39m _dataset_from_backend_dataset(\n\u001b[1;32m    502\u001b[0m     backend_ds,\n\u001b[1;32m    503\u001b[0m     filename_or_obj,\n\u001b[0;32m   (...)\u001b[0m\n\u001b[1;32m    510\u001b[0m     \u001b[38;5;241m*\u001b[39m\u001b[38;5;241m*\u001b[39mkwargs,\n\u001b[1;32m    511\u001b[0m )\n\u001b[1;32m    512\u001b[0m \u001b[38;5;28;01mreturn\u001b[39;00m ds\n",
      "File \u001b[0;32m~/local/bin/miniconda3/envs/geocat/lib/python3.9/site-packages/xarray/backends/netCDF4_.py:553\u001b[0m, in \u001b[0;36mNetCDF4BackendEntrypoint.open_dataset\u001b[0;34m(self, filename_or_obj, mask_and_scale, decode_times, concat_characters, decode_coords, drop_variables, use_cftime, decode_timedelta, group, mode, format, clobber, diskless, persist, lock, autoclose)\u001b[0m\n\u001b[1;32m    532\u001b[0m \u001b[38;5;28;01mdef\u001b[39;00m \u001b[38;5;21mopen_dataset\u001b[39m(\n\u001b[1;32m    533\u001b[0m     \u001b[38;5;28mself\u001b[39m,\n\u001b[1;32m    534\u001b[0m     filename_or_obj,\n\u001b[0;32m   (...)\u001b[0m\n\u001b[1;32m    549\u001b[0m     autoclose\u001b[38;5;241m=\u001b[39m\u001b[38;5;28;01mFalse\u001b[39;00m,\n\u001b[1;32m    550\u001b[0m ):\n\u001b[1;32m    552\u001b[0m     filename_or_obj \u001b[38;5;241m=\u001b[39m _normalize_path(filename_or_obj)\n\u001b[0;32m--> 553\u001b[0m     store \u001b[38;5;241m=\u001b[39m \u001b[43mNetCDF4DataStore\u001b[49m\u001b[38;5;241;43m.\u001b[39;49m\u001b[43mopen\u001b[49m\u001b[43m(\u001b[49m\n\u001b[1;32m    554\u001b[0m \u001b[43m        \u001b[49m\u001b[43mfilename_or_obj\u001b[49m\u001b[43m,\u001b[49m\n\u001b[1;32m    555\u001b[0m \u001b[43m        \u001b[49m\u001b[43mmode\u001b[49m\u001b[38;5;241;43m=\u001b[39;49m\u001b[43mmode\u001b[49m\u001b[43m,\u001b[49m\n\u001b[1;32m    556\u001b[0m \u001b[43m        \u001b[49m\u001b[38;5;28;43mformat\u001b[39;49m\u001b[38;5;241;43m=\u001b[39;49m\u001b[38;5;28;43mformat\u001b[39;49m\u001b[43m,\u001b[49m\n\u001b[1;32m    557\u001b[0m \u001b[43m        \u001b[49m\u001b[43mgroup\u001b[49m\u001b[38;5;241;43m=\u001b[39;49m\u001b[43mgroup\u001b[49m\u001b[43m,\u001b[49m\n\u001b[1;32m    558\u001b[0m \u001b[43m        \u001b[49m\u001b[43mclobber\u001b[49m\u001b[38;5;241;43m=\u001b[39;49m\u001b[43mclobber\u001b[49m\u001b[43m,\u001b[49m\n\u001b[1;32m    559\u001b[0m \u001b[43m        \u001b[49m\u001b[43mdiskless\u001b[49m\u001b[38;5;241;43m=\u001b[39;49m\u001b[43mdiskless\u001b[49m\u001b[43m,\u001b[49m\n\u001b[1;32m    560\u001b[0m \u001b[43m        \u001b[49m\u001b[43mpersist\u001b[49m\u001b[38;5;241;43m=\u001b[39;49m\u001b[43mpersist\u001b[49m\u001b[43m,\u001b[49m\n\u001b[1;32m    561\u001b[0m \u001b[43m        \u001b[49m\u001b[43mlock\u001b[49m\u001b[38;5;241;43m=\u001b[39;49m\u001b[43mlock\u001b[49m\u001b[43m,\u001b[49m\n\u001b[1;32m    562\u001b[0m \u001b[43m        \u001b[49m\u001b[43mautoclose\u001b[49m\u001b[38;5;241;43m=\u001b[39;49m\u001b[43mautoclose\u001b[49m\u001b[43m,\u001b[49m\n\u001b[1;32m    563\u001b[0m \u001b[43m    \u001b[49m\u001b[43m)\u001b[49m\n\u001b[1;32m    565\u001b[0m     store_entrypoint \u001b[38;5;241m=\u001b[39m StoreBackendEntrypoint()\n\u001b[1;32m    566\u001b[0m     \u001b[38;5;28;01mwith\u001b[39;00m close_on_error(store):\n",
      "File \u001b[0;32m~/local/bin/miniconda3/envs/geocat/lib/python3.9/site-packages/xarray/backends/netCDF4_.py:382\u001b[0m, in \u001b[0;36mNetCDF4DataStore.open\u001b[0;34m(cls, filename, mode, format, group, clobber, diskless, persist, lock, lock_maker, autoclose)\u001b[0m\n\u001b[1;32m    376\u001b[0m kwargs \u001b[38;5;241m=\u001b[39m \u001b[38;5;28mdict\u001b[39m(\n\u001b[1;32m    377\u001b[0m     clobber\u001b[38;5;241m=\u001b[39mclobber, diskless\u001b[38;5;241m=\u001b[39mdiskless, persist\u001b[38;5;241m=\u001b[39mpersist, \u001b[38;5;28mformat\u001b[39m\u001b[38;5;241m=\u001b[39m\u001b[38;5;28mformat\u001b[39m\n\u001b[1;32m    378\u001b[0m )\n\u001b[1;32m    379\u001b[0m manager \u001b[38;5;241m=\u001b[39m CachingFileManager(\n\u001b[1;32m    380\u001b[0m     netCDF4\u001b[38;5;241m.\u001b[39mDataset, filename, mode\u001b[38;5;241m=\u001b[39mmode, kwargs\u001b[38;5;241m=\u001b[39mkwargs\n\u001b[1;32m    381\u001b[0m )\n\u001b[0;32m--> 382\u001b[0m \u001b[38;5;28;01mreturn\u001b[39;00m \u001b[38;5;28;43mcls\u001b[39;49m\u001b[43m(\u001b[49m\u001b[43mmanager\u001b[49m\u001b[43m,\u001b[49m\u001b[43m \u001b[49m\u001b[43mgroup\u001b[49m\u001b[38;5;241;43m=\u001b[39;49m\u001b[43mgroup\u001b[49m\u001b[43m,\u001b[49m\u001b[43m \u001b[49m\u001b[43mmode\u001b[49m\u001b[38;5;241;43m=\u001b[39;49m\u001b[43mmode\u001b[49m\u001b[43m,\u001b[49m\u001b[43m \u001b[49m\u001b[43mlock\u001b[49m\u001b[38;5;241;43m=\u001b[39;49m\u001b[43mlock\u001b[49m\u001b[43m,\u001b[49m\u001b[43m \u001b[49m\u001b[43mautoclose\u001b[49m\u001b[38;5;241;43m=\u001b[39;49m\u001b[43mautoclose\u001b[49m\u001b[43m)\u001b[49m\n",
      "File \u001b[0;32m~/local/bin/miniconda3/envs/geocat/lib/python3.9/site-packages/xarray/backends/netCDF4_.py:330\u001b[0m, in \u001b[0;36mNetCDF4DataStore.__init__\u001b[0;34m(self, manager, group, mode, lock, autoclose)\u001b[0m\n\u001b[1;32m    328\u001b[0m \u001b[38;5;28mself\u001b[39m\u001b[38;5;241m.\u001b[39m_group \u001b[38;5;241m=\u001b[39m group\n\u001b[1;32m    329\u001b[0m \u001b[38;5;28mself\u001b[39m\u001b[38;5;241m.\u001b[39m_mode \u001b[38;5;241m=\u001b[39m mode\n\u001b[0;32m--> 330\u001b[0m \u001b[38;5;28mself\u001b[39m\u001b[38;5;241m.\u001b[39mformat \u001b[38;5;241m=\u001b[39m \u001b[38;5;28;43mself\u001b[39;49m\u001b[38;5;241;43m.\u001b[39;49m\u001b[43mds\u001b[49m\u001b[38;5;241m.\u001b[39mdata_model\n\u001b[1;32m    331\u001b[0m \u001b[38;5;28mself\u001b[39m\u001b[38;5;241m.\u001b[39m_filename \u001b[38;5;241m=\u001b[39m \u001b[38;5;28mself\u001b[39m\u001b[38;5;241m.\u001b[39mds\u001b[38;5;241m.\u001b[39mfilepath()\n\u001b[1;32m    332\u001b[0m \u001b[38;5;28mself\u001b[39m\u001b[38;5;241m.\u001b[39mis_remote \u001b[38;5;241m=\u001b[39m is_remote_uri(\u001b[38;5;28mself\u001b[39m\u001b[38;5;241m.\u001b[39m_filename)\n",
      "File \u001b[0;32m~/local/bin/miniconda3/envs/geocat/lib/python3.9/site-packages/xarray/backends/netCDF4_.py:391\u001b[0m, in \u001b[0;36mNetCDF4DataStore.ds\u001b[0;34m(self)\u001b[0m\n\u001b[1;32m    389\u001b[0m \u001b[38;5;129m@property\u001b[39m\n\u001b[1;32m    390\u001b[0m \u001b[38;5;28;01mdef\u001b[39;00m \u001b[38;5;21mds\u001b[39m(\u001b[38;5;28mself\u001b[39m):\n\u001b[0;32m--> 391\u001b[0m     \u001b[38;5;28;01mreturn\u001b[39;00m \u001b[38;5;28;43mself\u001b[39;49m\u001b[38;5;241;43m.\u001b[39;49m\u001b[43m_acquire\u001b[49m\u001b[43m(\u001b[49m\u001b[43m)\u001b[49m\n",
      "File \u001b[0;32m~/local/bin/miniconda3/envs/geocat/lib/python3.9/site-packages/xarray/backends/netCDF4_.py:385\u001b[0m, in \u001b[0;36mNetCDF4DataStore._acquire\u001b[0;34m(self, needs_lock)\u001b[0m\n\u001b[1;32m    384\u001b[0m \u001b[38;5;28;01mdef\u001b[39;00m \u001b[38;5;21m_acquire\u001b[39m(\u001b[38;5;28mself\u001b[39m, needs_lock\u001b[38;5;241m=\u001b[39m\u001b[38;5;28;01mTrue\u001b[39;00m):\n\u001b[0;32m--> 385\u001b[0m     \u001b[38;5;28;01mwith\u001b[39;00m \u001b[38;5;28mself\u001b[39m\u001b[38;5;241m.\u001b[39m_manager\u001b[38;5;241m.\u001b[39macquire_context(needs_lock) \u001b[38;5;28;01mas\u001b[39;00m root:\n\u001b[1;32m    386\u001b[0m         ds \u001b[38;5;241m=\u001b[39m _nc4_require_group(root, \u001b[38;5;28mself\u001b[39m\u001b[38;5;241m.\u001b[39m_group, \u001b[38;5;28mself\u001b[39m\u001b[38;5;241m.\u001b[39m_mode)\n\u001b[1;32m    387\u001b[0m     \u001b[38;5;28;01mreturn\u001b[39;00m ds\n",
      "File \u001b[0;32m~/local/bin/miniconda3/envs/geocat/lib/python3.9/contextlib.py:119\u001b[0m, in \u001b[0;36m_GeneratorContextManager.__enter__\u001b[0;34m(self)\u001b[0m\n\u001b[1;32m    117\u001b[0m \u001b[38;5;28;01mdel\u001b[39;00m \u001b[38;5;28mself\u001b[39m\u001b[38;5;241m.\u001b[39margs, \u001b[38;5;28mself\u001b[39m\u001b[38;5;241m.\u001b[39mkwds, \u001b[38;5;28mself\u001b[39m\u001b[38;5;241m.\u001b[39mfunc\n\u001b[1;32m    118\u001b[0m \u001b[38;5;28;01mtry\u001b[39;00m:\n\u001b[0;32m--> 119\u001b[0m     \u001b[38;5;28;01mreturn\u001b[39;00m \u001b[38;5;28;43mnext\u001b[39;49m\u001b[43m(\u001b[49m\u001b[38;5;28;43mself\u001b[39;49m\u001b[38;5;241;43m.\u001b[39;49m\u001b[43mgen\u001b[49m\u001b[43m)\u001b[49m\n\u001b[1;32m    120\u001b[0m \u001b[38;5;28;01mexcept\u001b[39;00m \u001b[38;5;167;01mStopIteration\u001b[39;00m:\n\u001b[1;32m    121\u001b[0m     \u001b[38;5;28;01mraise\u001b[39;00m \u001b[38;5;167;01mRuntimeError\u001b[39;00m(\u001b[38;5;124m\"\u001b[39m\u001b[38;5;124mgenerator didn\u001b[39m\u001b[38;5;124m'\u001b[39m\u001b[38;5;124mt yield\u001b[39m\u001b[38;5;124m\"\u001b[39m) \u001b[38;5;28;01mfrom\u001b[39;00m \u001b[38;5;28mNone\u001b[39m\n",
      "File \u001b[0;32m~/local/bin/miniconda3/envs/geocat/lib/python3.9/site-packages/xarray/backends/file_manager.py:187\u001b[0m, in \u001b[0;36mCachingFileManager.acquire_context\u001b[0;34m(self, needs_lock)\u001b[0m\n\u001b[1;32m    184\u001b[0m \u001b[38;5;129m@contextlib\u001b[39m\u001b[38;5;241m.\u001b[39mcontextmanager\n\u001b[1;32m    185\u001b[0m \u001b[38;5;28;01mdef\u001b[39;00m \u001b[38;5;21macquire_context\u001b[39m(\u001b[38;5;28mself\u001b[39m, needs_lock\u001b[38;5;241m=\u001b[39m\u001b[38;5;28;01mTrue\u001b[39;00m):\n\u001b[1;32m    186\u001b[0m     \u001b[38;5;124;03m\"\"\"Context manager for acquiring a file.\"\"\"\u001b[39;00m\n\u001b[0;32m--> 187\u001b[0m     file, cached \u001b[38;5;241m=\u001b[39m \u001b[38;5;28;43mself\u001b[39;49m\u001b[38;5;241;43m.\u001b[39;49m\u001b[43m_acquire_with_cache_info\u001b[49m\u001b[43m(\u001b[49m\u001b[43mneeds_lock\u001b[49m\u001b[43m)\u001b[49m\n\u001b[1;32m    188\u001b[0m     \u001b[38;5;28;01mtry\u001b[39;00m:\n\u001b[1;32m    189\u001b[0m         \u001b[38;5;28;01myield\u001b[39;00m file\n",
      "File \u001b[0;32m~/local/bin/miniconda3/envs/geocat/lib/python3.9/site-packages/xarray/backends/file_manager.py:205\u001b[0m, in \u001b[0;36mCachingFileManager._acquire_with_cache_info\u001b[0;34m(self, needs_lock)\u001b[0m\n\u001b[1;32m    203\u001b[0m     kwargs \u001b[38;5;241m=\u001b[39m kwargs\u001b[38;5;241m.\u001b[39mcopy()\n\u001b[1;32m    204\u001b[0m     kwargs[\u001b[38;5;124m\"\u001b[39m\u001b[38;5;124mmode\u001b[39m\u001b[38;5;124m\"\u001b[39m] \u001b[38;5;241m=\u001b[39m \u001b[38;5;28mself\u001b[39m\u001b[38;5;241m.\u001b[39m_mode\n\u001b[0;32m--> 205\u001b[0m file \u001b[38;5;241m=\u001b[39m \u001b[38;5;28;43mself\u001b[39;49m\u001b[38;5;241;43m.\u001b[39;49m\u001b[43m_opener\u001b[49m\u001b[43m(\u001b[49m\u001b[38;5;241;43m*\u001b[39;49m\u001b[38;5;28;43mself\u001b[39;49m\u001b[38;5;241;43m.\u001b[39;49m\u001b[43m_args\u001b[49m\u001b[43m,\u001b[49m\u001b[43m \u001b[49m\u001b[38;5;241;43m*\u001b[39;49m\u001b[38;5;241;43m*\u001b[39;49m\u001b[43mkwargs\u001b[49m\u001b[43m)\u001b[49m\n\u001b[1;32m    206\u001b[0m \u001b[38;5;28;01mif\u001b[39;00m \u001b[38;5;28mself\u001b[39m\u001b[38;5;241m.\u001b[39m_mode \u001b[38;5;241m==\u001b[39m \u001b[38;5;124m\"\u001b[39m\u001b[38;5;124mw\u001b[39m\u001b[38;5;124m\"\u001b[39m:\n\u001b[1;32m    207\u001b[0m     \u001b[38;5;66;03m# ensure file doesn't get overridden when opened again\u001b[39;00m\n\u001b[1;32m    208\u001b[0m     \u001b[38;5;28mself\u001b[39m\u001b[38;5;241m.\u001b[39m_mode \u001b[38;5;241m=\u001b[39m \u001b[38;5;124m\"\u001b[39m\u001b[38;5;124ma\u001b[39m\u001b[38;5;124m\"\u001b[39m\n",
      "File \u001b[0;32msrc/netCDF4/_netCDF4.pyx:2307\u001b[0m, in \u001b[0;36mnetCDF4._netCDF4.Dataset.__init__\u001b[0;34m()\u001b[0m\n",
      "File \u001b[0;32msrc/netCDF4/_netCDF4.pyx:1925\u001b[0m, in \u001b[0;36mnetCDF4._netCDF4._ensure_nc_success\u001b[0;34m()\u001b[0m\n",
      "\u001b[0;31mFileNotFoundError\u001b[0m: [Errno 2] No such file or directory: b'/raid60B/kbesong/CS3_ecmwf_2022_12.nc'"
     ]
    }
   ],
   "source": [
    "temp = []\n",
    "z500 = []\n",
    "\n",
    "for mod in model_dict.keys():\n",
    "    \n",
    "    file = xr.open_dataset(f'CS3_{mod}_{init_year}_{init_mon}.nc')\n",
    "    \n",
    "    temp.append(file.ta.sel(level = 850).mean('time'))\n",
    "    z500.append(file.za.sel(level = 500).mean('time')/9.81) #convert to meters"
   ]
  },
  {
   "cell_type": "markdown",
   "id": "9b7f7ad1-1851-413f-9f6e-5df592a7d60e",
   "metadata": {},
   "source": [
    "### The plot is variable and adjusts to the number of models selected\n",
    "\n",
    "If there are 4 or less models, only a row for pressure and temperature each. If there are more than 4, the row count doubles."
   ]
  },
  {
   "cell_type": "code",
   "execution_count": null,
   "id": "b8bfb642-9243-4216-9d68-a3c9767adea1",
   "metadata": {},
   "outputs": [],
   "source": [
    "if len(model_dict.keys()) <= 4:\n",
    "    ncols = len(model_dict.keys())\n",
    "    nrows = 2\n",
    "    fig_size = (30,10)              # figsize is pretty good for plots > 2 model selctions, might need editing for less than that\n",
    "    \n",
    "    slicer = len(model_dict.keys()) # the 'slicer' is worked out math for the plotting below so correct plots are turned on/off\n",
    "\n",
    "else:\n",
    "    \n",
    "    ncols = 4\n",
    "    nrows = 4\n",
    "    fig_size = (30,20)\n",
    "    slicer = 4\n"
   ]
  },
  {
   "cell_type": "markdown",
   "id": "4f39e157-a6d9-4d0c-a3ad-1e68ba63870e",
   "metadata": {},
   "source": [
    "A fancy way to ensure your plot title matches whatever months are selected"
   ]
  },
  {
   "cell_type": "code",
   "execution_count": null,
   "id": "91082c29-08a4-4235-ad62-3f95c4ab7708",
   "metadata": {},
   "outputs": [],
   "source": [
    "mons = list(calendar.month_name)\n",
    "int_init_mon = int(init_mon)\n",
    "int_lead_mons = [(int(x)-1)+int_init_mon for x in lead_time_mons]\n",
    "\n",
    "plot_string_arr = []\n",
    "\n",
    "for m in int_lead_mons:\n",
    "    if m > 12:\n",
    "        m = m-12\n",
    "        plot_string_arr.append(mons[m][0])\n",
    "    else:\n",
    "        plot_string_arr.append(mons[m][0])\n",
    "        \n",
    "plot_string = ''.join(plot_string_arr)      "
   ]
  },
  {
   "cell_type": "markdown",
   "id": "40779858-c82c-45fa-9b0e-c58b668aa1f1",
   "metadata": {},
   "source": [
    "Note: Lambert conformal centered on the US was used to show the mid to high latitudes as this was originally created to highlight the Pacific North American pattern. "
   ]
  },
  {
   "cell_type": "code",
   "execution_count": null,
   "id": "be4a2ba9-2c75-495c-b94c-5d754a856c11",
   "metadata": {},
   "outputs": [],
   "source": [
    "def formatter(ax, extent, lccproj):\n",
    "    \n",
    "    ''' This function is designed to format cartopy subplots as the sliding amount of panels requires that not all panels be plotted and thus,\n",
    "        not all panels be formatted. This eliminates redundancy. Other parameters hard coded here such as the xlabel font size could become inputs\n",
    "        but it is just as easy to change them here.\n",
    "\n",
    "    Input Variables:\n",
    "\n",
    "        ax = (cartopy.mpl.geoaxes.GeoAxesSubplot) The subplot object.\n",
    "        \n",
    "        extent = (list of 4) Extent of the map in [west, east, south, north].\n",
    "        \n",
    "        \n",
    "    Output:\n",
    "    \n",
    "        The input ax (cartopy.mpl.geoaxes.GeoAxesSubplot) object but formatted accordingly. '''\n",
    "    \n",
    "    \n",
    "    ax.set_extent(extent, crs = lccproj)                                                                             # Set the extent according to above\n",
    "    ax.add_feature(cf.STATES, linewidth=1.5, edgecolor='grey', alpha = 0.5)                                                       # Add state boundaries \n",
    "    ax.coastlines(zorder = 3, color='grey', linewidths = 1.5, alpha = 0.5)                                                        # Add coastlines\n",
    "    gl = ax.gridlines(color = 'lightgrey', draw_labels=True, linewidths = 1.5, x_inline=False, y_inline=False)       # Add the gridlines and the lat/lon labels\n",
    "\n",
    "    ## most of this code is formatting the gridlines and axis labels. Edit as you wish. \n",
    "\n",
    "    gl.ylocator = mticker.FixedLocator([0, 20, 40])\n",
    "    gl.xlocator = mticker.FixedLocator(np.arange(-180,40, 40))\n",
    "    gl.xformatter = LONGITUDE_FORMATTER\n",
    "    gl.yformatter = LATITUDE_FORMATTER\n",
    "    gl.xlabel_style = {'size': 15, 'rotation': 0}\n",
    "    gl.ylabel_style = {'size': 15, 'rotation': 0}\n",
    "    gl.right_labels = False\n",
    "    gl.left_labels = False   \n",
    "    gl.top_labels = False\n",
    "\n",
    "    return ax"
   ]
  },
  {
   "cell_type": "code",
   "execution_count": null,
   "id": "99d45748-0098-4f9a-b910-9e382e5ba2f7",
   "metadata": {},
   "outputs": [],
   "source": [
    "lccproj = ccrs.PlateCarree()                               # the local projection \n",
    "projection = ccrs.LambertConformal(central_longitude=255)  # the projection we want to see centered on the U.S. \n",
    "\n",
    "fig, axes = plt.subplots(nrows=nrows,ncols=ncols, subplot_kw={'projection': projection},figsize=fig_size, constrained_layout=True)   # set the subplots and their projection \n",
    "\n",
    "extent = [-180, -10, 20, 80]\n",
    "labels = [x.upper() for x in model_dict.keys()]        # Why retype the model names? This capitalizes the model dictionary keys to use as labels. This isn't very formal so it works here.\n",
    "\n",
    "\n",
    "for i,ax in enumerate(axes.flatten()):\n",
    "\n",
    "        \n",
    "        ## this allows for even and odd rows to be selected so that if more than 4 models are selected, \n",
    "        ## it automatically adjusts to have the pressure on even rows and temp on odd \n",
    "        \n",
    "        ev_odd = i//slicer % 2\n",
    "        \n",
    "        if ev_odd == False:\n",
    "        \n",
    "            dx = 10      # dx for filled contour\n",
    "            c_dx = 20    # dx for contour lines\n",
    "            \n",
    "            if i > 7:\n",
    "                \n",
    "                i -= slicer\n",
    "                \n",
    "            if i+1 > len(model_dict.keys()):\n",
    "                ax.set_axis_off()\n",
    "                \n",
    "            else:\n",
    "                \n",
    "                ax = formatter(ax, extent, lccproj)\n",
    "                \n",
    "                ax.set_title(labels[i], fontsize = 20)  # label only set for even rows as the odd rows plot the same model as above just different variable         \n",
    "\n",
    "                zf = ax.pcolormesh(z500[i].longitude, z500[i].latitude, z500[i], transform = lccproj, cmap = 'PuOr_r', vmin = -150, vmax = 150)       # pcolormesh is significantly faster than contourf\n",
    "\n",
    "                zc = ax.contour(z500[i].longitude, z500[i].latitude, z500[i], transform = lccproj,\n",
    "                                  levels = np.concatenate([np.arange(-200,0,c_dx), np.arange(c_dx,200+c_dx,c_dx)]), colors = 'grey', linewidths = 2, alpha = 0.5)    #np.concatenate was used here to avoid having a '0' line  \n",
    "                zc.clabel(fontsize=12, colors='k', inline=1, inline_spacing=8, fmt='%i', rightside_up=True, use_clabeltext=True)     # Label those contours! \n",
    "\n",
    "\n",
    "        else:\n",
    "            \n",
    "            dx = 0.05  # dx for filled contour\n",
    "            c_dx = 0.5 # dx for contour lines\n",
    "            \n",
    "            i -= slicer         # this ensures the correct item from the list is being grabbed \n",
    "            \n",
    "            \n",
    "            if i > 7:\n",
    "                \n",
    "                i -= slicer\n",
    "                \n",
    "\n",
    "            if i+1 > len(model_dict.keys()):        # 'turn off' the plot to correctly adjust for the number of models \n",
    "                \n",
    "                ax.set_axis_off()\n",
    "                \n",
    "            else:\n",
    "                \n",
    "                ax = formatter(ax, extent, lccproj)\n",
    "            \n",
    "                tf = ax.pcolormesh(temp[i].longitude, temp[i].latitude, temp[i], transform = lccproj, cmap = 'RdYlBu_r', vmin = -4, vmax = 4)      \n",
    "\n",
    "                \n",
    "# add the colorbars and edit some of their params \n",
    "\n",
    "cb1 = fig.colorbar(zf, ax=axes[0, :], shrink = 0.7, pad = 0.005, location = 'left') \n",
    "cb2 = fig.colorbar(tf, ax=axes[1, :], shrink = 0.7, pad = 0.005, location = 'left')  \n",
    "\n",
    "cb1.ax.tick_params(labelsize=15)\n",
    "cb2.ax.tick_params(labelsize=15)\n",
    "cb1.set_label(label='m', size = 15)\n",
    "cb2.set_label(label='K', size = 15)\n",
    "\n",
    "\n",
    "if len(axes.flatten()) > 8:\n",
    "    cb3 = fig.colorbar(zf, ax=axes[2, :], shrink = 0.7, pad = 0.005, location = 'left')  \n",
    "    cb4 = fig.colorbar(tf, ax=axes[3, :], shrink = 0.7, pad = 0.005, location = 'left')  \n",
    "\n",
    "    cb3.ax.tick_params(labelsize=15)\n",
    "    cb4.ax.tick_params(labelsize=15)\n",
    "    cb3.set_label(label='m', size = 15)\n",
    "    cb4.set_label(label='K', size = 15)\n",
    "\n",
    "\n",
    "fig.suptitle(f'{plot_string} Seasonal Forecast of Z500mb and 850mb Temperature Anomalies Initialized on {init_mon}-{init_year}', fontsize=25, x = 0.515);     # don't forget to label :D \n",
    "    \n",
    "\n",
    "plt.savefig(f'Seasonal_forecast_z500_ta_{init_year}_{init_mon}.png', bbox_inches = \"tight\")     # bbox_inches limits the extra whitespcae once saved \n"
   ]
  },
  {
   "cell_type": "code",
   "execution_count": null,
   "id": "8e4173b5-1fd8-4517-ac6d-0a3a2c292dde",
   "metadata": {},
   "outputs": [],
   "source": []
  }
 ],
 "metadata": {
  "kernelspec": {
   "display_name": "Python 3 (ipykernel)",
   "language": "python",
   "name": "python3"
  },
  "language_info": {
   "codemirror_mode": {
    "name": "ipython",
    "version": 3
   },
   "file_extension": ".py",
   "mimetype": "text/x-python",
   "name": "python",
   "nbconvert_exporter": "python",
   "pygments_lexer": "ipython3",
   "version": "3.9.10"
  }
 },
 "nbformat": 4,
 "nbformat_minor": 5
}
